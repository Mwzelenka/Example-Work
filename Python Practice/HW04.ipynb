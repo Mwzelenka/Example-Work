{
 "cells": [
  {
   "cell_type": "markdown",
   "metadata": {},
   "source": [
    "# Homework 4"
   ]
  },
  {
   "cell_type": "markdown",
   "metadata": {},
   "source": [
    "In this assignment you will construct a `DataFrame` with information about the current components of the S&P 500 index."
   ]
  },
  {
   "cell_type": "markdown",
   "metadata": {},
   "source": [
    "## Getting data\n",
    "\n",
    "Use the `pd.read_html` function to download the table of company data on this web site:\n",
    "\n",
    "https://en.wikipedia.org/wiki/List_of_S%26P_500_companies\n",
    "\n",
    "Note that the function returns a **list** of DataFrames, so you have to identify the element of that list that contains the DataFrame you want. Store this DataFrame in a variable called `comps`."
   ]
  },
  {
   "cell_type": "code",
   "execution_count": null,
   "metadata": {
    "collapsed": true
   },
   "outputs": [],
   "source": [
    "import pandas as pd\n",
    "import numpy as np"
   ]
  },
  {
   "cell_type": "code",
   "execution_count": null,
   "metadata": {
    "collapsed": true
   },
   "outputs": [],
   "source": [
    "html = pd.read_html('https://en.wikipedia.org/wiki/List_of_S%26P_500_companies', header = 0)\n",
    "comps = html[0]"
   ]
  },
  {
   "cell_type": "markdown",
   "metadata": {},
   "source": [
    "Display the first 5 rows of `comps`."
   ]
  },
  {
   "cell_type": "code",
   "execution_count": null,
   "metadata": {},
   "outputs": [],
   "source": [
    "comps.head(5)"
   ]
  },
  {
   "cell_type": "markdown",
   "metadata": {},
   "source": [
    "## Cleaning\n",
    "\n",
    "Make the following changes to `comps`:\n",
    " - Drop columns *SEC filings*, *GICS Sub Industry*, and *Founded*\n",
    " - Rename the remaining columns **name**, **ticker**, **sector**, **address**, **date**, and **cik**\n",
    " - Set the index to be **ticker**\n",
    " "
   ]
  },
  {
   "cell_type": "code",
   "execution_count": null,
   "metadata": {
    "collapsed": true
   },
   "outputs": [],
   "source": [
    "comps = comps.drop(columns = ['SEC filings','GICS Sub Industry','Founded'])\n",
    "comps = comps.rename(index = str, columns = {'Security':'name','Symbol':'ticker','GICS Sector':'sector',\n",
    "                                     'Headquarters Location':'address','Date first added':'date','CIK':'cik'})\n",
    "comps = comps.set_index('ticker')"
   ]
  },
  {
   "cell_type": "markdown",
   "metadata": {},
   "source": [
    "Use `dtypes` to check how each column is stored."
   ]
  },
  {
   "cell_type": "code",
   "execution_count": null,
   "metadata": {},
   "outputs": [],
   "source": [
    "comps.dtypes"
   ]
  },
  {
   "cell_type": "markdown",
   "metadata": {},
   "source": [
    "Notice that `date` is stored as text (which pandas lists as *object*). Use the `pd.to_datetime` function to convert the date into a pandas `datetime` object."
   ]
  },
  {
   "cell_type": "code",
   "execution_count": null,
   "metadata": {
    "collapsed": true
   },
   "outputs": [],
   "source": [
    "comps['date'] = pd.to_datetime(comps['date'])"
   ]
  },
  {
   "cell_type": "markdown",
   "metadata": {},
   "source": [
    "## Analysis\n",
    "\n",
    "It is always a good idea to start by *looking* at your data to get a sense of what it contains and what sort of errors there may be.\n",
    "\n",
    "Start by asking: How many records are in this dataframe? Use *one* simple function in one line to find out. "
   ]
  },
  {
   "cell_type": "code",
   "execution_count": null,
   "metadata": {},
   "outputs": [],
   "source": [
    "print('There are {} records in this dataframe.'.format(len(comps)))"
   ]
  },
  {
   "cell_type": "markdown",
   "metadata": {},
   "source": [
    "Does the answer surprise you? Try to explain it. \n",
    "\n",
    "Hint: Are there any CIKs that appear more than once? Why?"
   ]
  },
  {
   "cell_type": "code",
   "execution_count": null,
   "metadata": {},
   "outputs": [],
   "source": [
    "test = comps.cik.value_counts()\n",
    "test = test.to_frame()\n",
    "test = test.reset_index()\n",
    "test = list(test[test['cik'] == 2].loc[:,'index'])\n",
    "comps[comps['cik'].isin(test)]\n",
    "\n",
    "# There are CIKs which appear more than once because the company has separated\n",
    "# its common stock into multiple classes. Please see the output below."
   ]
  },
  {
   "cell_type": "markdown",
   "metadata": {},
   "source": [
    "Notice that the date for **MMM** is missing. How many rows are missing the date?"
   ]
  },
  {
   "cell_type": "code",
   "execution_count": null,
   "metadata": {},
   "outputs": [],
   "source": [
    "comps.loc['MMM']"
   ]
  },
  {
   "cell_type": "code",
   "execution_count": null,
   "metadata": {},
   "outputs": [],
   "source": [
    "print('There are {} rows with a missing date.'.format(len(comps[comps['date'].isnull()])))"
   ]
  },
  {
   "cell_type": "markdown",
   "metadata": {},
   "source": [
    "Add a column called `age` that has the number of years since the company was first added to the index.\n",
    "\n",
    "Hint: Since `date` is now stored as a `datetime` object, we can access the year using its `.dt.year` property. Just subtract the initial year from 2019."
   ]
  },
  {
   "cell_type": "code",
   "execution_count": null,
   "metadata": {
    "collapsed": true
   },
   "outputs": [],
   "source": [
    "comps['age'] = 2019 - comps.date.dt.year"
   ]
  },
  {
   "cell_type": "markdown",
   "metadata": {},
   "source": [
    "Use the code below to plot a histogram of the `age` column."
   ]
  },
  {
   "cell_type": "code",
   "execution_count": null,
   "metadata": {},
   "outputs": [],
   "source": [
    "%matplotlib notebook\n",
    "comps['age'].plot('hist', bins=25)"
   ]
  },
  {
   "cell_type": "markdown",
   "metadata": {},
   "source": [
    "How long has the average firm been in the index? What about the median? How long has the oldest firm been in the index? All of these questions can be answered with the `.describe()` method.\n",
    "\n",
    "Note also how many firms you have results for, and comment on what this means."
   ]
  },
  {
   "cell_type": "code",
   "execution_count": null,
   "metadata": {},
   "outputs": [],
   "source": [
    "print('Descriptive Statistics for Age:\\n')\n",
    "print(comps.age.describe())\n",
    "\n",
    "print('\\nSkewness = {}'.format(comps.age.skew()))"
   ]
  },
  {
   "cell_type": "code",
   "execution_count": null,
   "metadata": {
    "collapsed": true
   },
   "outputs": [],
   "source": [
    "# Note: Statistics are based on 402 observations (103 missing data points).\n",
    "\n",
    "# The output above indicates that 50% of the firms in the S&P 500 have been in the index for\n",
    "# less than or equal to 11 years.  Furthermore, this index exhibits some variability with an\n",
    "# IQR of 21 years. Lastly, the distribution exhibit a skewness of 0.9527 --> right skewed\n",
    "\n"
   ]
  },
  {
   "cell_type": "markdown",
   "metadata": {},
   "source": [
    "What is the earliest `date` in the data?"
   ]
  },
  {
   "cell_type": "code",
   "execution_count": null,
   "metadata": {},
   "outputs": [],
   "source": [
    "d = str(comps.date.min())[:10]\n",
    "print('The earliest date in the data is {}'.format(d))"
   ]
  },
  {
   "cell_type": "markdown",
   "metadata": {},
   "source": [
    "Which firms have been in the index since that date?"
   ]
  },
  {
   "cell_type": "code",
   "execution_count": null,
   "metadata": {},
   "outputs": [],
   "source": [
    "print('The following firms have been in the index since {}: {}'.format(d, \n",
    "      ', '.join(list(comps[comps['date'] == comps.date.min()].loc[:,'name']))))"
   ]
  },
  {
   "cell_type": "markdown",
   "metadata": {},
   "source": [
    "How many companies are there in each sector?"
   ]
  },
  {
   "cell_type": "code",
   "execution_count": null,
   "metadata": {},
   "outputs": [],
   "source": [
    "comps.sector.value_counts()"
   ]
  },
  {
   "cell_type": "markdown",
   "metadata": {},
   "source": [
    "## Working with text data\n",
    "\n",
    "Use the `.str.extract()` function to create a new column, *state*, with the state name from the *address* column.\n",
    "\n",
    "Hint: You will need to pass a regular expression that identifies the state. Before coming up with a regular expression look at the examples below:"
   ]
  },
  {
   "cell_type": "code",
   "execution_count": null,
   "metadata": {},
   "outputs": [],
   "source": [
    "comps.loc[['AIG', 'BHF', 'BSX', 'BXP']]"
   ]
  },
  {
   "cell_type": "code",
   "execution_count": null,
   "metadata": {
    "collapsed": true
   },
   "outputs": [],
   "source": [
    "import re\n",
    "\n",
    "df_state = comps.address.str.extract(r'\\.*?, ([A-Za-z \\.]+)', expand = False)\n",
    "comps['state'] = df_state"
   ]
  },
  {
   "cell_type": "markdown",
   "metadata": {},
   "source": [
    "How many companies are there headquartered in each state? Do you any problems with your result?"
   ]
  },
  {
   "cell_type": "code",
   "execution_count": null,
   "metadata": {},
   "outputs": [],
   "source": [
    "comps.state.value_counts()"
   ]
  },
  {
   "cell_type": "code",
   "execution_count": null,
   "metadata": {
    "collapsed": true
   },
   "outputs": [],
   "source": [
    "# For some of the international companies, its address may be structured such that \n",
    "# the country is listed where the state normally is (for US based companies).\n",
    "# Also, the United Kingdom is expressed as both 'United Kingdom' and 'UK'\n",
    "# Furthermore, Kent and Surrey are counties in the UK. "
   ]
  }
 ],
 "metadata": {
  "kernelspec": {
   "display_name": "Python 3",
   "language": "python",
   "name": "python3"
  },
  "language_info": {
   "codemirror_mode": {
    "name": "ipython",
    "version": 3
   },
   "file_extension": ".py",
   "mimetype": "text/x-python",
   "name": "python",
   "nbconvert_exporter": "python",
   "pygments_lexer": "ipython3",
   "version": "3.6.8"
  }
 },
 "nbformat": 4,
 "nbformat_minor": 2
}
