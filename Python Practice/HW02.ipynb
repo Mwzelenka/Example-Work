{
 "cells": [
  {
   "cell_type": "markdown",
   "metadata": {},
   "source": [
    "# Homework 2\n",
    "\n",
    "Due before class on Thursday, February 7"
   ]
  },
  {
   "cell_type": "markdown",
   "metadata": {},
   "source": [
    "## Question 1\n",
    "\n",
    "Write a function that returns the name of a company for a given ticker symbol. \n",
    "\n",
    "You should scrape the data from Yahoo! Finance. [Here's an example page](https://finance.yahoo.com/quote/WMT/profile) using Walmart. Start by making your function modify the URL so it works for other ticker symbols. Then, look at the HTML source to find the pattern that you must search for to extract the company name.\n",
    "\n",
    "I've started the function for you here."
   ]
  },
  {
   "cell_type": "code",
   "execution_count": 33,
   "metadata": {
    "collapsed": true
   },
   "outputs": [],
   "source": [
    "def get_name(ticker):\n",
    "    import requests, re\n",
    "    \n",
    "    # put the URL here\n",
    "    \n",
    "    url = 'https://finance.yahoo.com/quote/{}/profile'.format(ticker)\n",
    "    req = requests.get(url)\n",
    "    html = req.text\n",
    "\n",
    "    \n",
    "    try:\n",
    "        # use a regular expression to find the name\n",
    "        name = re.search(r'><title>{} Profile \\| (.*?) Stock'.format(ticker), html).group(1)\n",
    "        return name\n",
    "    \n",
    "    except:\n",
    "        # if the regular expression fails, do nothing\n",
    "        pass"
   ]
  },
  {
   "cell_type": "markdown",
   "metadata": {},
   "source": [
    "Test your function using these tickers: `AMZN`, `WMT`, `MMM`. Be sure it works as expected."
   ]
  },
  {
   "cell_type": "code",
   "execution_count": 34,
   "metadata": {},
   "outputs": [
    {
     "data": {
      "text/plain": [
       "'3M Company'"
      ]
     },
     "execution_count": 34,
     "metadata": {},
     "output_type": "execute_result"
    }
   ],
   "source": [
    "get_name('MMM')"
   ]
  },
  {
   "cell_type": "markdown",
   "metadata": {},
   "source": [
    "## Question 2\n",
    "Write a function that uses the same web page of data to find the address of the company's headquarters.\n",
    "\n",
    "For example, your function should work as follows:\n",
    "\n",
    "    In  []: get_address('TSLA')\n",
    "    Out []: '3500 Deer Creek Road, Palo Alto, CA, 94304'\n",
    "    \n",
    "Be sure to test your function with some other stock tickers.\n",
    "\n",
    "Hint: You'll probably want to capture different parts of the address (street address, city, state, zip) separately and then join them together into a string before returning a value. "
   ]
  },
  {
   "cell_type": "code",
   "execution_count": 24,
   "metadata": {
    "collapsed": true
   },
   "outputs": [],
   "source": [
    "def get_address(ticker):\n",
    "    import requests, re\n",
    "    \n",
    "    try:\n",
    "        url = 'https://finance.yahoo.com/quote/{}/profile'.format(ticker)\n",
    "        req = requests.get(url)\n",
    "        html = req.text\n",
    "        street = re.search(r'address1\":\"(.+)\\\",\\\"fax\"',html)\n",
    "        if street is not None:\n",
    "            street = re.search(r'address1\":\"(.+)\",\"fax\"',html).group(1)    \n",
    "        else:\n",
    "            street = re.search(r'address1\":\"(.+)\",\"industry\"',html).group(1)\n",
    "        city = re.search(r'city\":\"(.+)\",\"phone',html).group(1)\n",
    "        state = re.search(r'state\":\"(\\w+)\",\"shareHolderRightsRisk',html).group(1)\n",
    "        zip_code =  re.search(r'zip\":\"(\\d+)\",\"sector\"', html).group(1)\n",
    "        address = ', '.join([street,city,state,zip_code])\n",
    "        return address\n",
    "    \n",
    "    except:\n",
    "        pass"
   ]
  },
  {
   "cell_type": "code",
   "execution_count": 35,
   "metadata": {},
   "outputs": [
    {
     "data": {
      "text/plain": [
       "'702 SW 8th Street, Bentonville, AR, 72716'"
      ]
     },
     "execution_count": 35,
     "metadata": {},
     "output_type": "execute_result"
    }
   ],
   "source": [
    "get_address('WMT')"
   ]
  },
  {
   "cell_type": "markdown",
   "metadata": {},
   "source": [
    "## Question 3\n",
    "\n",
    "Now I want you to write a *geolocating* function that takes a ticker symbol and returns the latitude and longitude of the firm's headquarters. To do this, we will use Mapquest's API (**A**pplication **P**rogramming **I**nterface), which is a web-based system for providing raw data rather than HTML pages.\n",
    "\n",
    "Before accessing the API you need to create an account which generates an API Key. The account is free and allows you to make a limited number of queries. Once you have created your key, you can query the API using a URL like this:\n",
    "\n",
    "http://www.mapquestapi.com/geocoding/v1/address?key=API_KEY&location=1309+E+10th+Street%2C+Bloomington%2C+IN%2C+47401\n",
    "\n",
    "(This link won't work until you replace `API_KEY` with your personal key.)\n",
    "\n",
    "To do this query from python, use `requests` like we did in class:"
   ]
  },
  {
   "cell_type": "code",
   "execution_count": 36,
   "metadata": {
    "collapsed": true
   },
   "outputs": [],
   "source": [
    "import requests, re\n",
    "\n",
    "API_KEY = 'bPuxRuQQPkHdDYLApq18OB3UesUo9r5O'\n",
    "url = 'http://www.mapquestapi.com/geocoding/v1/address'\n",
    "params = {'key': API_KEY, 'location': '1309 E 10th Street, Bloomington, IN, 47401'}\n",
    "req = requests.get(url, params=params)"
   ]
  },
  {
   "cell_type": "markdown",
   "metadata": {},
   "source": [
    "The response from the server is data from the database stored in JSON format. You can process it as JSON, or you can ignore that it's JSON and just use a regular expression to find the pattern you're looking for.\n",
    "\n",
    "As an example, your code should return a tuple *exactly* like this:\n",
    "\n",
    "    In  [2]: geolocate('TSLA')\n",
    "    Out [2]: (37.394738, -122.149112, '3500 Deer Creek Road, Palo Alto, CA, 94304')\n",
    "    \n",
    "That is, it returns a tuple with the latitude, longitude, and address. Note that the lat/lng coordinates are `float` values.\n",
    "\n",
    "The function you write for this question should start by calling the function you wrote in Q2 to get the address. You can then use this with the API to get the location"
   ]
  },
  {
   "cell_type": "code",
   "execution_count": 37,
   "metadata": {
    "collapsed": true
   },
   "outputs": [],
   "source": [
    "def geolocate(ticker):\n",
    "    import requests, re\n",
    "    \n",
    "    try:\n",
    "        address = get_address(ticker)\n",
    "        API_KEY = 'bPuxRuQQPkHdDYLApq18OB3UesUo9r5O'\n",
    "        url_2 = 'http://www.mapquestapi.com/geocoding/v1/address'\n",
    "        params = {'key': API_KEY, 'location': address}\n",
    "        req = requests.get(url_2, params=params)\n",
    "        lat = float(re.search(r'\\\"latLng\":{\"lat\":([?-]?\\d*\\.\\d*),\"lng\":([?-]?\\d*\\.\\d*)}', req.text).group(1))\n",
    "        lng = float(re.search(r'\\\"latLng\":{\"lat\":([?-]?\\d*\\.\\d*),\"lng\":([?-]?\\d*\\.\\d*)}', req.text).group(2))\n",
    "        geo_location = tuple([lat,lng,address])\n",
    "        return geo_location\n",
    "    \n",
    "    except:\n",
    "        pass"
   ]
  },
  {
   "cell_type": "code",
   "execution_count": 39,
   "metadata": {},
   "outputs": [
    {
     "data": {
      "text/plain": [
       "(47.622333, -122.33717, '410 Terry Avenue North, Seattle, WA, 98109')"
      ]
     },
     "execution_count": 39,
     "metadata": {},
     "output_type": "execute_result"
    }
   ],
   "source": [
    "geolocate('AMZN')"
   ]
  },
  {
   "cell_type": "markdown",
   "metadata": {},
   "source": [
    "## Question 4\n",
    "\n",
    "Now let's say we want to calculate the distance between two corporate headquarters.\n",
    "\n",
    "Given two pairs of latitude and longitude, $(\\varphi_1, \\lambda_1)$ and $(\\varphi_2, \\lambda_2)$, we can calculate the distance between them using the [Haversine formula](https://en.wikipedia.org/wiki/Haversine_formula#The_haversine_formula):\n",
    "\n",
    "$${\\displaystyle d=2r\\arcsin \\left({\\sqrt {\\operatorname {hav} (\\varphi _{2}-\\varphi _{1})+\\cos(\\varphi _{1})\\cos(\\varphi _{2})\\operatorname {hav} (\\lambda _{2}-\\lambda _{1})}}\\right)}$$\n",
    "\n",
    "where $d$ is the distance, $\\operatorname{hav}$ is the Haversine function, $$\\operatorname {hav} (\\theta )=\\sin ^{2}\\left({\\frac {\\theta }{2}}\\right),$$ and $r$ is the radius of the earth ([3958.7613 miles](https://en.wikipedia.org/wiki/Earth_radius#Mean_radius)). Note that this formula requires that the latitude and longitude are given in *radians*, not the degrees that Mapquest gives.\n",
    "\n",
    "Use the template below to write a function that takes two ticker symbols and returns the distance between the headquarters of the two firms. Note that the python function for $\\arcsin$ is `asin`.\n",
    "\n",
    "Test your function with several pairs of ticker symbols."
   ]
  },
  {
   "cell_type": "code",
   "execution_count": 29,
   "metadata": {
    "collapsed": true
   },
   "outputs": [],
   "source": [
    "def haversine(theta):\n",
    "    '''Haversine function'''\n",
    "    from math import sin\n",
    "    return sin(theta/2)**2\n",
    "\n",
    "def firm_dist(ticker1, ticker2):\n",
    "    '''Returns the distance in miles between two firm HQs'''\n",
    "    from math import radians, cos, sin, asin, sqrt\n",
    " \n",
    "    \n",
    "    try:\n",
    "        # get lat/lng of the two tickers\n",
    "        \n",
    "        coord_1 = geolocate(ticker1)\n",
    "        lat_1 = coord_1[0]\n",
    "        lng_1 = coord_1[1]\n",
    "    \n",
    "        coord_2 = geolocate(ticker2)\n",
    "        lat_2 = coord_2[0]\n",
    "        lng_2 = coord_2[1]\n",
    "\n",
    "        # change degrees to radians (hint: use \"map\")\n",
    "\n",
    "        coord_rads = tuple(map(radians, [lat_1,lng_1,lat_2,lng_2]))\n",
    "    \n",
    "        # calculate and return the distance using the the formula given above\n",
    "\n",
    "        distance = 2*3958.7613*asin(sqrt(haversine(coord_rads[2]-coord_rads[0])+cos(coord_rads[0])*\n",
    "                                cos(coord_rads[2])*haversine(coord_rads[3]-coord_rads[1])))\n",
    "\n",
    "        return(distance)\n",
    "    \n",
    "    except:\n",
    "        pass"
   ]
  },
  {
   "cell_type": "code",
   "execution_count": 40,
   "metadata": {},
   "outputs": [
    {
     "data": {
      "text/plain": [
       "706.723812722618"
      ]
     },
     "execution_count": 40,
     "metadata": {},
     "output_type": "execute_result"
    }
   ],
   "source": [
    "# test your function\n",
    "firm_dist('TSLA','AMZN')\n"
   ]
  }
 ],
 "metadata": {
  "kernelspec": {
   "display_name": "Python 3",
   "language": "python",
   "name": "python3"
  },
  "language_info": {
   "codemirror_mode": {
    "name": "ipython",
    "version": 3
   },
   "file_extension": ".py",
   "mimetype": "text/x-python",
   "name": "python",
   "nbconvert_exporter": "python",
   "pygments_lexer": "ipython3",
   "version": "3.6.3"
  }
 },
 "nbformat": 4,
 "nbformat_minor": 2
}
