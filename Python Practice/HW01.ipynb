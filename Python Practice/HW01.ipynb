{
 "cells": [
  {
   "cell_type": "markdown",
   "metadata": {},
   "source": [
    "# Homework 1"
   ]
  },
  {
   "cell_type": "markdown",
   "metadata": {},
   "source": [
    "## Question 1\n",
    "\n",
    "Find <u>three</u> different ways to add up all the numbers from 1 to 1000, inclusive.\n",
    "\n",
    "First, use the `sum` function. You should be able to write this in one line."
   ]
  },
  {
   "cell_type": "code",
   "execution_count": 11,
   "metadata": {
    "scrolled": true
   },
   "outputs": [
    {
     "data": {
      "text/plain": [
       "500500"
      ]
     },
     "execution_count": 11,
     "metadata": {},
     "output_type": "execute_result"
    }
   ],
   "source": [
    "sum(range(1001))"
   ]
  },
  {
   "cell_type": "markdown",
   "metadata": {},
   "source": [
    "Second, use a `for` loop. Write your code as a function, so a user can call it using (for example) `s2(1000)`."
   ]
  },
  {
   "cell_type": "code",
   "execution_count": 12,
   "metadata": {},
   "outputs": [
    {
     "name": "stdout",
     "output_type": "stream",
     "text": [
      "500500\n"
     ]
    }
   ],
   "source": [
    "def s2(n):\n",
    "        value = 0\n",
    "        for i in range(n+1):\n",
    "            value = value + i\n",
    "        print(value)\n",
    "        \n",
    "s2(1000)\n",
    "        "
   ]
  },
  {
   "cell_type": "markdown",
   "metadata": {},
   "source": [
    "Third, use a `while` loop. Again, write a function (call it `s3`)."
   ]
  },
  {
   "cell_type": "code",
   "execution_count": 13,
   "metadata": {},
   "outputs": [
    {
     "name": "stdout",
     "output_type": "stream",
     "text": [
      "500500\n"
     ]
    }
   ],
   "source": [
    "def s3(x):\n",
    "    n = 0\n",
    "    value = 0\n",
    "    while n <= x:\n",
    "        value = value + n\n",
    "        n = n + 1\n",
    "\n",
    "    print(value)\n",
    "    \n",
    "s3(1000)"
   ]
  },
  {
   "cell_type": "markdown",
   "metadata": {},
   "source": [
    "## Question 2\n",
    "\n",
    "Use a `list comprehension` to create a list that contains every third letter of the alphabet, starting with *a*."
   ]
  },
  {
   "cell_type": "code",
   "execution_count": 14,
   "metadata": {},
   "outputs": [
    {
     "name": "stdout",
     "output_type": "stream",
     "text": [
      "['a', 'd', 'g', 'j', 'm', 'p', 's', 'v', 'y']\n"
     ]
    }
   ],
   "source": [
    "l = [chr(i) for i in range(97,123,3)]\n",
    "\n",
    "print(l)"
   ]
  },
  {
   "cell_type": "markdown",
   "metadata": {},
   "source": [
    "Join together the elements of this list to create the string `'adgjmpsvy'`. (Hint: use the `join` method.)"
   ]
  },
  {
   "cell_type": "code",
   "execution_count": 15,
   "metadata": {},
   "outputs": [
    {
     "name": "stdout",
     "output_type": "stream",
     "text": [
      "adgjmpsvy\n"
     ]
    }
   ],
   "source": [
    "string = ''\n",
    "print(string.join(l))\n",
    "\n"
   ]
  },
  {
   "cell_type": "markdown",
   "metadata": {},
   "source": [
    "## Question 3\n",
    "\n",
    "Write a function that returns a letter grade from a number using the following rules:\n",
    "\n",
    "Score (%) | Grade\n",
    ":--------:|:--:\n",
    ">90       | A\n",
    ">80       | B\n",
    ">70       | C\n",
    ">60       | D\n",
    "<=60      | F\n",
    "\n",
    "\n",
    "The function should take a score and an optional value for the denominator. (The default value of the denominator should be 100.) Some example calls:\n",
    "\n",
    "    In  []: grade(95)\n",
    "    Out []: A\n",
    "    \n",
    "    In  []: grade(40.5, denom=50)\n",
    "    Out []: B\n",
    "\n",
    "    In  []: grade('Janet')\n",
    "    Out []: Please enter a numeric Grade\n",
    "\n"
   ]
  },
  {
   "cell_type": "code",
   "execution_count": 16,
   "metadata": {},
   "outputs": [
    {
     "name": "stdout",
     "output_type": "stream",
     "text": [
      "A\n"
     ]
    }
   ],
   "source": [
    "def letter_grade(score, denom = 100):\n",
    "    while True:\n",
    "        try:\n",
    "            points = float(score)\n",
    "        except ValueError:\n",
    "            score = input('Please enter a numeric grade: ')\n",
    "            continue\n",
    "        else:\n",
    "            break\n",
    "            \n",
    "    value = (points / denom)\n",
    "    if value > 0.9:\n",
    "        print('A')\n",
    "    elif value > 0.8:\n",
    "        print('B')\n",
    "    elif value > 0.7:\n",
    "        print('C')\n",
    "    elif value > 0.6:\n",
    "        print('D')\n",
    "    else:\n",
    "        print('F')\n",
    "\n",
    "letter_grade(100)"
   ]
  },
  {
   "cell_type": "markdown",
   "metadata": {},
   "source": [
    "## Question 4\n",
    "\n",
    "Create a virtual deck of cards by storing 52 string values in a list. There are 4 suits (hearts, diamonds, clubs, spades) and 13 cards Ace, 2, 3, ..., 10, J, Q, K. For example, one card might be AS (representing the Ace of Spades) or 10H (10 of Hearts).\n",
    "\n",
    "Hint: You will probably want to use two for loops to do this."
   ]
  },
  {
   "cell_type": "code",
   "execution_count": 19,
   "metadata": {},
   "outputs": [],
   "source": [
    "suits = ['H','D','C','S']\n",
    "cards = ['A','2','3','4','5','6','7','8','9','10','J','Q','K']\n",
    "\n",
    "deck = []\n",
    "\n",
    "for i in range(len(suits)):\n",
    "    for n in range(len(cards)):\n",
    "        deck.append(str(cards[n]) + suits[i])"
   ]
  },
  {
   "cell_type": "markdown",
   "metadata": {},
   "source": [
    "Deal one hand by shuffling your cards and taking five cards off the top (ie, the beginning) of the deck. Store these cards in a variable called \"hand\". Be sure to actually remove the cards from the deck!"
   ]
  },
  {
   "cell_type": "code",
   "execution_count": 20,
   "metadata": {},
   "outputs": [
    {
     "name": "stdout",
     "output_type": "stream",
     "text": [
      "['AD', 'QC', '10C', '3S', 'JS']\n"
     ]
    }
   ],
   "source": [
    "import random\n",
    "\n",
    "random.shuffle(deck)\n",
    "\n",
    "hand = []\n",
    "for i in range(5):\n",
    "    card = deck[i]\n",
    "    hand.append(card)\n",
    "    deck.remove(card)\n",
    "\n",
    "print(hand)"
   ]
  },
  {
   "cell_type": "code",
   "execution_count": null,
   "metadata": {
    "collapsed": true
   },
   "outputs": [],
   "source": []
  }
 ],
 "metadata": {
  "kernelspec": {
   "display_name": "Python 3",
   "language": "python",
   "name": "python3"
  },
  "language_info": {
   "codemirror_mode": {
    "name": "ipython",
    "version": 3
   },
   "file_extension": ".py",
   "mimetype": "text/x-python",
   "name": "python",
   "nbconvert_exporter": "python",
   "pygments_lexer": "ipython3",
   "version": "3.6.3"
  }
 },
 "nbformat": 4,
 "nbformat_minor": 2
}
