{
 "cells": [
  {
   "cell_type": "markdown",
   "metadata": {},
   "source": [
    "# Homework 3"
   ]
  },
  {
   "cell_type": "markdown",
   "metadata": {},
   "source": [
    "## Question 1\n",
    "\n",
    "Fidelity Investments offers a number of \"sector\" mutual funds, as shown on [this page](https://fundresearch.fidelity.com/mutual-funds/category-performance-annual-total-returns/SECTOR).\n",
    "\n",
    "Write code to download this page and extract the following variables:\n",
    "* Fund name\n",
    "* Fund ticker symbol\n",
    "* Fund inception date\n",
    "* Investment category\n",
    "\n",
    "Store the records in a list of tuples containing the fund name, ticker, and the year of fund inception. For example, your list should have records like this:\n",
    "\n",
    "`[('Consumer Cyclical', 'Consumer Discretionary', 'FSCPX', 1990),\n",
    " ('Consumer Cyclical', 'Leisure', 'FDLSX', 1984),\n",
    " ('Consumer Cyclical', 'Retailing', 'FSRPX', 1985), ...`\n",
    " \n",
    "\n",
    "Notice that extraneous words like \"Fidelty Select\" and \"Portfolio\", which are common to all the funds, have been removed from fund names. Note also that the inception year is an integer."
   ]
  },
  {
   "cell_type": "code",
   "execution_count": null,
   "metadata": {},
   "outputs": [],
   "source": [
    "import requests, re\n",
    "\n",
    "url = 'https://fundresearch.fidelity.com/mutual-funds/category-performance-annual-total-returns/SECTOR'\n",
    "req = requests.get(url)\n",
    "html = req.text\n",
    "ptrn = r'href=\"https://fundresearch.fidelity.com/mutual-funds/summary/\\d+\">Fidelity (?:Select )*(.*?) (?:Fund)*(?:Portfolio)* \\((\\w+)\\).*?<td align=\"center\">\\d+/\\d+/(\\d+)</td>\\n\\t\\t\\t\\t\\t<td>(.*?)</td>'\n",
    "ptrns = re.findall(ptrn, html, re.DOTALL)\n",
    "\n",
    "funds = []\n",
    "\n",
    "for i in ptrns:\n",
    "    funds.append(tuple([i[3],i[0],i[1],int(i[2])]))\n",
    "    \n",
    "funds    "
   ]
  },
  {
   "cell_type": "markdown",
   "metadata": {},
   "source": [
    "How many funds are there? Your answer should come from a single line of code."
   ]
  },
  {
   "cell_type": "code",
   "execution_count": null,
   "metadata": {},
   "outputs": [],
   "source": [
    "len(funds)"
   ]
  },
  {
   "cell_type": "markdown",
   "metadata": {},
   "source": [
    "## Question 2\n",
    "\n",
    "Now process the records in your dictionary to create a new dictionary with *sector* as the key, and a list of fund tickers as the values.\n",
    "\n",
    "Your result should look like this:\n",
    "\n",
    "`{'Consumer Cyclical': ['FSCPX', 'FDLSX', 'FSRPX', 'FSHOX', 'FSAVX', 'FBMPX'],\n",
    " 'Consumer Defensive': ['FDFAX'], ...`"
   ]
  },
  {
   "cell_type": "code",
   "execution_count": null,
   "metadata": {},
   "outputs": [],
   "source": [
    "sectors = {}\n",
    "\n",
    "for fund in funds:\n",
    "    category = fund[0]\n",
    "    ticker = fund[2]\n",
    "    if category not in sectors:\n",
    "        sectors[category] = []\n",
    "    sectors[category].append(ticker)\n",
    "\n",
    "sectors"
   ]
  },
  {
   "cell_type": "markdown",
   "metadata": {},
   "source": [
    "How many sectors are there? Again, answer with just one line of code."
   ]
  },
  {
   "cell_type": "code",
   "execution_count": null,
   "metadata": {},
   "outputs": [],
   "source": [
    "len(sectors)"
   ]
  },
  {
   "cell_type": "markdown",
   "metadata": {},
   "source": [
    "## Question 3\n",
    "\n",
    "Print a table of all years that have at least one fund inception, sorted from oldest to newest, and a count of how many funds were started that year.\n",
    "\n",
    "Hint: It will probabably help to start by constructing a new dictionary."
   ]
  },
  {
   "cell_type": "code",
   "execution_count": null,
   "metadata": {},
   "outputs": [],
   "source": [
    "import pandas as pd\n",
    "\n",
    "years = {}\n",
    "\n",
    "for fund in funds:\n",
    "    year = fund[3]\n",
    "    if year not in years:\n",
    "        years[year] = int(0)\n",
    "    years[year] += 1\n",
    "\n",
    "years = pd.DataFrame.from_dict(years, orient = 'index', columns = ['Number of Funds Started'])\n",
    "years = years.sort_index(ascending = True)\n",
    "\n",
    "print(years)"
   ]
  },
  {
   "cell_type": "markdown",
   "metadata": {},
   "source": [
    "## Question 4\n",
    "\n",
    "Morningstar provides detailed information about mutual funds, some available for free. \n",
    "\n",
    "[This page](https://portfolios.morningstar.com/fund/holdings?t=FBSOX&region=usa&culture=en-US) displays holdings information for the top 25 stocks held by one of the funds.\n",
    "\n",
    "If you look at the page source, though, you won't find the data there -- it's actually coming from another web server. The following URL returns a string of JSON-formatted text that contains the information that is being used to create the other page:\n",
    "\n",
    "https://portfolios.morningstar.com/portfo/fund/ajax/holdings_tab?&t=FBSOX\n",
    "\n",
    "To get started, write code to download this JSON and convert it to a dictionary called `jsn` just for this one ticker to get started."
   ]
  },
  {
   "cell_type": "code",
   "execution_count": null,
   "metadata": {
    "collapsed": true
   },
   "outputs": [],
   "source": [
    "import json\n",
    "\n",
    "url = 'https://portfolios.morningstar.com/portfo/fund/ajax/holdings_tab?&t=FBSOX'\n",
    "req = requests.get(url)\n",
    "txt = re.search(r'.*',req.text,re.DOTALL).group(0)\n",
    "jsn = json.loads(txt)\n",
    "html = jsn['htmlStr']"
   ]
  },
  {
   "cell_type": "markdown",
   "metadata": {},
   "source": [
    "Now, `jsn` has a key `htmlStr` that contains the HTML with the information we want. Look at this HTML and the web page in your browser to come up with a regular expression you can use to extract the *ticker* and *company name* for all of the 25 holdings listed.\n",
    "\n",
    "Now, write code that extracts this information for each of the funds. When you're done you should have a dictionary where the key is the fund ticker and the values are tuples of company ticker and name. For example, your dictionary should have a list that starts like this for the key `FBSOX`:\n",
    "\n",
    "`[('ACN', 'Accenture PLC A'),\n",
    " ('EPAM', 'EPAM Systems Inc'),\n",
    " ('IBM', 'International Business Machines Corp'),\n",
    " ('ADBE', 'Adobe Inc'), ...`\n",
    " \n",
    "Note: Be careful to check that you end up with 25 unique holdings for a fund. If you end up with duplicate matches, recall that a `set` can only contain unique values, and you can convert a `list` to a set by calling `set(my_list)`."
   ]
  },
  {
   "cell_type": "code",
   "execution_count": null,
   "metadata": {
    "collapsed": true
   },
   "outputs": [],
   "source": [
    "def get_fund_underlyings(fund_ticker):\n",
    "\n",
    "    import json\n",
    "\n",
    "    url = f'https://portfolios.morningstar.com/portfo/fund/ajax/holdings_tab?&t={fund_ticker}'\n",
    "    req = requests.get(url)\n",
    "    txt = re.search(r'.*',req.text,re.DOTALL).group(0)\n",
    "    jsn = json.loads(txt)\n",
    "    html = jsn['htmlStr']\n",
    "    company_info = re.findall(r'href=\"\\t\\t\\t//quotes.morningstar.com/stock/(\\w+)/.*?\\n\">(.*?)</a><\\/th>\\n',html,re.DOTALL)\n",
    "\n",
    "    companies  = []\n",
    "\n",
    "    for company in company_info:\n",
    "        ticker = company[0]\n",
    "        name = company[1]\n",
    "        if ticker not in companies:\n",
    "            companies.append((ticker,name))\n",
    "        \n",
    "    return companies"
   ]
  },
  {
   "cell_type": "code",
   "execution_count": null,
   "metadata": {},
   "outputs": [],
   "source": [
    "fund_underlyings = {}\n",
    "\n",
    "for fund in funds:\n",
    "    fund_ticker = fund[2]\n",
    "    fund_underlyings[fund_ticker] = get_fund_underlyings(fund_ticker)\n",
    "    \n",
    "fund_underlyings"
   ]
  }
 ],
 "metadata": {
  "kernelspec": {
   "display_name": "Python 3",
   "language": "python",
   "name": "python3"
  },
  "language_info": {
   "codemirror_mode": {
    "name": "ipython",
    "version": 3
   },
   "file_extension": ".py",
   "mimetype": "text/x-python",
   "name": "python",
   "nbconvert_exporter": "python",
   "pygments_lexer": "ipython3",
   "version": "3.6.3"
  }
 },
 "nbformat": 4,
 "nbformat_minor": 2
}
