{
 "cells": [
  {
   "cell_type": "code",
   "execution_count": 1,
   "metadata": {
    "scrolled": false
   },
   "outputs": [],
   "source": [
    "import pandas as pd\n",
    "df=pd.read_pickle('master_df.pkl')"
   ]
  },
  {
   "cell_type": "code",
   "execution_count": 2,
   "metadata": {},
   "outputs": [],
   "source": [
    "from scipy.special import perm\n",
    "import numpy as np\n",
    "from scipy.stats import pearsonr"
   ]
  },
  {
   "cell_type": "code",
   "execution_count": 9,
   "metadata": {},
   "outputs": [],
   "source": [
    "sector=list(set(df['sector']))\n",
    "list_of_predictors = ['totalESG','environmentScore','socialScore','governanceScore']\n",
    "\n",
    "#All ESG correlation by sector\n",
    "\n",
    "data = []\n",
    "\n",
    "for s in sector:\n",
    "    df2 = df[df['sector']==s]\n",
    "    for q in list_of_predictors:\n",
    "        for v in ['profit_margin','asset_turnover','quick_ratio','cash_flow_margin','avg_annual_return']:\n",
    "            y, z = pearsonr(df2[q], df2[v])\n",
    "            data.append([s,v,q,y])\n",
    "            \n",
    "df_correlation = pd.DataFrame(data)\n",
    "df_correlation.columns = ['sector','metric','indep_var','correlation']\n",
    "df_correlation = df_correlation.sort_values(by = ['sector','metric'], ascending = True)\n",
    "pd.set_option('display.float_format', '{:.2%}'.format)\n",
    "df_correlation.to_pickle('df_correlation.pkl')"
   ]
  }
 ],
 "metadata": {
  "kernelspec": {
   "display_name": "Python 3",
   "language": "python",
   "name": "python3"
  },
  "language_info": {
   "codemirror_mode": {
    "name": "ipython",
    "version": 3
   },
   "file_extension": ".py",
   "mimetype": "text/x-python",
   "name": "python",
   "nbconvert_exporter": "python",
   "pygments_lexer": "ipython3",
   "version": "3.6.8"
  }
 },
 "nbformat": 4,
 "nbformat_minor": 2
}
