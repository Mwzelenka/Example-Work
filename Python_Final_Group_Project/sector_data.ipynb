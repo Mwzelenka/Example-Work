{
 "cells": [
  {
   "cell_type": "code",
   "execution_count": null,
   "metadata": {},
   "outputs": [],
   "source": [
    "import pandas as pd\n",
    "import numpy as np"
   ]
  },
  {
   "cell_type": "code",
   "execution_count": null,
   "metadata": {},
   "outputs": [],
   "source": [
    "# Calculate and save sector median data from master_df\n",
    "df_sector_data = pd.read_pickle('master_df.pkl')\n",
    "df_sector_data = df_sector_data.drop(columns = ['lat','lng','peerEnvironment','peerSocial','governanceScore'])\n",
    "pd.set_option('display.float_format', '{:.3}'.format)\n",
    "df_sector_medians = df_sector_data.groupby('sector').median()\n",
    "df_sector_medians.to_pickle('df_sector_medians.pkl')"
   ]
  }
 ],
 "metadata": {
  "kernelspec": {
   "display_name": "Python 3",
   "language": "python",
   "name": "python3"
  },
  "language_info": {
   "codemirror_mode": {
    "name": "ipython",
    "version": 3
   },
   "file_extension": ".py",
   "mimetype": "text/x-python",
   "name": "python",
   "nbconvert_exporter": "python",
   "pygments_lexer": "ipython3",
   "version": "3.6.8"
  }
 },
 "nbformat": 4,
 "nbformat_minor": 2
}
