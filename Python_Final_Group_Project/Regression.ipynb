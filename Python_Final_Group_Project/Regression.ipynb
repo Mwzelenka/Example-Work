{
 "cells": [
  {
   "cell_type": "code",
   "execution_count": 1,
   "metadata": {},
   "outputs": [],
   "source": [
    "# Multiple Linear Regression\n",
    "\n",
    "# Importing the libraries\n",
    "import numpy as np\n",
    "import matplotlib.pyplot as plt\n",
    "import pandas as pd\n",
    "import statsmodels.formula.api as sm\n",
    "from sklearn.linear_model import LinearRegression"
   ]
  },
  {
   "cell_type": "code",
   "execution_count": 2,
   "metadata": {},
   "outputs": [],
   "source": [
    "# Automatic backwards elimination function (from Udemy course)\n",
    "\n",
    "def backwardElimination(indep_vars, sl):\n",
    "    regressor = LinearRegression()\n",
    "    numVars = len(indep_vars[0])\n",
    "    for i in range(0, numVars):\n",
    "        regressor_OLS = sm.OLS(y, indep_vars).fit()\n",
    "        maxVar = max(regressor_OLS.pvalues).astype(float)\n",
    "        if maxVar > sl:\n",
    "            for j in range(0, numVars - i):\n",
    "                if (regressor_OLS.pvalues[j].astype(float) == maxVar):\n",
    "                    indep_vars = np.delete(indep_vars, j, 1)\n",
    "    return regressor_OLS, indep_vars"
   ]
  },
  {
   "cell_type": "code",
   "execution_count": 3,
   "metadata": {},
   "outputs": [],
   "source": [
    "# Defining dataset, significance level, and relevant lists\n",
    "\n",
    "dataset = pd.read_pickle('master_df.pkl')\n",
    "sig_level = 0.05\n",
    "list_of_metrics = list(dataset.columns[-5:])\n",
    "sector_list = list(set(dataset.sector))"
   ]
  },
  {
   "cell_type": "code",
   "execution_count": 4,
   "metadata": {
    "scrolled": true
   },
   "outputs": [],
   "source": [
    "# Assumption: ESG scores can be used to predict financial performance\n",
    "\n",
    "\n",
    "'''\n",
    "\n",
    "Independent Variables:\n",
    "\n",
    "    1) Total ESG Score\n",
    "    2) Environment Score\n",
    "    3) Social Score\n",
    "    4) Governance Score\n",
    "\n",
    "'''\n",
    "\n",
    "# Set empty list for data to be appended to\n",
    "list_of_regressions_1 = []\n",
    "\n",
    "# For each sector and metric, run a MLR to determine the statistically significant predictors\n",
    "for i in sector_list:\n",
    "    sector_1 = i\n",
    "    for w in list_of_metrics:\n",
    "        metric_1 = w\n",
    "        num_rows = len(dataset[dataset['sector'] == i])\n",
    "        ones = np.ones((num_rows,))\n",
    "        relevant_i_vars = dataset[dataset['sector'] == i].loc[:,['totalESG','environmentScore','socialScore','governanceScore']]\n",
    "        X = pd.DataFrame(ones, index = dataset[dataset['sector'] == i].index)\n",
    "        X = pd.concat([X,relevant_i_vars], axis = 1)\n",
    "        X = np.array(X)\n",
    "        y = dataset[dataset['sector'] == i][w].values\n",
    "        regressor_data, most_sig_indep_vars = backwardElimination(X,sig_level)\n",
    "        adj_r_squared = regressor_data.rsquared_adj\n",
    "        p_values = np.array(regressor_data.pvalues).round(3)\n",
    "        number_of_vars = most_sig_indep_vars.shape[1]\n",
    "        list_of_indep_vars = []\n",
    "        for c in range(number_of_vars):\n",
    "            a = most_sig_indep_vars[:,c]\n",
    "            for z in dataset[dataset['sector'] == i].loc[:,['totalESG','environmentScore','socialScore','governanceScore']]:\n",
    "                b = np.array(dataset[dataset['sector'] == i].loc[:,z])\n",
    "                if (a==b).all():\n",
    "                    list_of_indep_vars.append(str(z))\n",
    "                else:\n",
    "                    continue\n",
    "                    \n",
    "# Create a one-time list to be appended to the overall list\n",
    "        result_data_1 = [sector_1,metric_1,list_of_indep_vars,p_values,adj_r_squared]\n",
    "        list_of_regressions_1.append(result_data_1)\n",
    "\n"
   ]
  },
  {
   "cell_type": "code",
   "execution_count": 5,
   "metadata": {},
   "outputs": [
    {
     "name": "stderr",
     "output_type": "stream",
     "text": [
      "/Users/matthewpine/anaconda3/lib/python3.6/site-packages/ipykernel_launcher.py:12: SettingWithCopyWarning: \n",
      "A value is trying to be set on a copy of a slice from a DataFrame\n",
      "\n",
      "See the caveats in the documentation: http://pandas.pydata.org/pandas-docs/stable/indexing.html#indexing-view-versus-copy\n",
      "  if sys.path[0] == '':\n",
      "/Users/matthewpine/anaconda3/lib/python3.6/site-packages/ipykernel_launcher.py:15: SettingWithCopyWarning: \n",
      "A value is trying to be set on a copy of a slice from a DataFrame\n",
      "\n",
      "See the caveats in the documentation: http://pandas.pydata.org/pandas-docs/stable/indexing.html#indexing-view-versus-copy\n",
      "  from ipykernel import kernelapp as app\n"
     ]
    }
   ],
   "source": [
    "# Convert all regression output into a data frame\n",
    "df_regression_1 = pd.DataFrame(list_of_regressions_1)\n",
    "\n",
    "# Format and save the data frame for the first regression\n",
    "df_regression_1.columns = ['sector', 'metric','sig_indep_vars','p_values','adj_r_squared']\n",
    "pd.set_option('display.float_format', '{:.2%}'.format)\n",
    "pd.set_option('display.max_colwidth', -1)\n",
    "df_regression_1 = df_regression_1.sort_values(by=['sector','metric'], ascending=True)\n",
    "# df_regression_1 = df_regression_1.sort_values(by= 'adj_r_squared', ascending=False)\n",
    "for i in range(len(df_regression_1['p_values'])):\n",
    "    if len(df_regression_1['p_values'][i]) > len(df_regression_1['sig_indep_vars'][i]):\n",
    "        df_regression_1['p_values'][i] = df_regression_1['p_values'][i][1:]\n",
    "for i in range(len(df_regression_1['sig_indep_vars'])):\n",
    "    if len(df_regression_1['sig_indep_vars'][i]) == 0:\n",
    "        df_regression_1['sig_indep_vars'][i] = 'constant_value'\n",
    "#         df_regression_1['p_values'][i] = np.nan\n",
    "df_regression_1['p_values'] = df_regression_1['p_values'].apply(np.asarray)\n",
    "df_regression_1.to_pickle('df_regression_1.pkl')"
   ]
  },
  {
   "cell_type": "code",
   "execution_count": 6,
   "metadata": {
    "scrolled": true
   },
   "outputs": [],
   "source": [
    "# Assumption: Relative ESG ranking vs. industry peers can be used to predict the relative financial performance\n",
    "\n",
    "'''\n",
    "\n",
    "Independent Variables:\n",
    "\n",
    "    % Difference in firm's (vs. industry peers):\n",
    "        1) Environment Score\n",
    "        2) Social Score\n",
    "        3) Governance Score\n",
    "\n",
    "'''\n",
    "\n",
    "# Set empty list for data to be appended to\n",
    "\n",
    "list_of_regressions_2 = []\n",
    "\n",
    "# For each sector and metric, run a MLR to determine the statistically significant predictors\n",
    "for i in sector_list:\n",
    "    sector_2 = i\n",
    "    for w in list_of_metrics:\n",
    "        metric_2 = w\n",
    "        sector_avg = dataset[dataset['sector'] == i][w].mean()\n",
    "        e_diff = dataset[dataset['sector'] == i]['environmentScore'] / dataset[dataset['sector'] == i]['peerEnvironment'] - 1\n",
    "        s_diff = dataset[dataset['sector'] == i]['socialScore'] / dataset[dataset['sector'] == i]['peerSocial'] - 1\n",
    "        g_diff = dataset[dataset['sector'] == i]['governanceScore'] / dataset[dataset['sector'] == i]['peerGovernance'] - 1\n",
    "        num_rows = len(dataset[dataset['sector'] == i])\n",
    "        ones = np.ones((num_rows,))\n",
    "        X = pd.DataFrame(ones, index = dataset[dataset['sector'] == i].index)\n",
    "        X = pd.concat([X,e_diff,s_diff,g_diff], axis = 1)\n",
    "        X.columns = range(4)\n",
    "        X = np.array(X)\n",
    "        y = np.array((dataset[dataset['sector'] == i][w] / np.full((num_rows,),sector_avg)) - 1)\n",
    "        regressor_data, most_sig_indep_vars = backwardElimination(X,sig_level)\n",
    "        adj_r_squared = regressor_data.rsquared_adj\n",
    "        p_values = np.array(regressor_data.pvalues).round(3)\n",
    "        number_of_vars = most_sig_indep_vars.shape[1]\n",
    "        list_of_indep_vars = []\n",
    "        for c in range(number_of_vars):\n",
    "            a = most_sig_indep_vars[:,c]\n",
    "            for z in [e_diff,s_diff,g_diff]:\n",
    "                b = np.array(z)\n",
    "                if (a==b).all():\n",
    "                    if(b==np.array(e_diff)).all():      \n",
    "                        list_of_indep_vars.append('e_diff')\n",
    "                    elif (b==np.array(s_diff)).all(): \n",
    "                        list_of_indep_vars.append('s_diff')\n",
    "                    elif (b==np.array(g_diff)).all():\n",
    "                        list_of_indep_vars.append('g_diff')\n",
    "\n",
    "# Create a one-time list to be appended to the overall list\n",
    "        result_data_2 = [sector_2,metric_2,list_of_indep_vars,p_values,adj_r_squared]\n",
    "        list_of_regressions_2.append(result_data_2)\n",
    "\n"
   ]
  },
  {
   "cell_type": "code",
   "execution_count": 7,
   "metadata": {},
   "outputs": [
    {
     "name": "stderr",
     "output_type": "stream",
     "text": [
      "/Users/matthewpine/anaconda3/lib/python3.6/site-packages/ipykernel_launcher.py:12: SettingWithCopyWarning: \n",
      "A value is trying to be set on a copy of a slice from a DataFrame\n",
      "\n",
      "See the caveats in the documentation: http://pandas.pydata.org/pandas-docs/stable/indexing.html#indexing-view-versus-copy\n",
      "  if sys.path[0] == '':\n",
      "/Users/matthewpine/anaconda3/lib/python3.6/site-packages/ipykernel_launcher.py:15: SettingWithCopyWarning: \n",
      "A value is trying to be set on a copy of a slice from a DataFrame\n",
      "\n",
      "See the caveats in the documentation: http://pandas.pydata.org/pandas-docs/stable/indexing.html#indexing-view-versus-copy\n",
      "  from ipykernel import kernelapp as app\n"
     ]
    }
   ],
   "source": [
    "# Convert all regression output into a data frame\n",
    "df_regression_2 = pd.DataFrame(list_of_regressions_2)\n",
    "\n",
    "# Format and save the data frame for the second regression\n",
    "df_regression_2.columns = ['sector', 'metric','sig_indep_vars','p_values','adj_r_squared']\n",
    "pd.set_option('display.float_format', '{:.2%}'.format)\n",
    "pd.set_option('display.max_colwidth', -1)\n",
    "df_regression_2 = df_regression_2.sort_values(by=['sector','metric'], ascending=True)\n",
    "# df_regression_2 = df_regression_2.sort_values(by= 'adj_r_squared', ascending=False)\n",
    "for i in range(len(df_regression_2['p_values'])):\n",
    "    if len(df_regression_2['p_values'][i]) > len(df_regression_2['sig_indep_vars'][i]):\n",
    "        df_regression_2['p_values'][i] = df_regression_2['p_values'][i][1:]\n",
    "for i in range(len(df_regression_2['sig_indep_vars'])):\n",
    "    if len(df_regression_2['sig_indep_vars'][i]) == 0:\n",
    "        df_regression_2['sig_indep_vars'][i] = 'constant_value'\n",
    "#         df_regression_2['p_values'][i] = np.nan\n",
    "df_regression_2['p_values'] = df_regression_2['p_values'].apply(np.asarray)\n",
    "df_regression_2.to_pickle('df_regression_2.pkl')"
   ]
  }
 ],
 "metadata": {
  "kernelspec": {
   "display_name": "Python 3",
   "language": "python",
   "name": "python3"
  },
  "language_info": {
   "codemirror_mode": {
    "name": "ipython",
    "version": 3
   },
   "file_extension": ".py",
   "mimetype": "text/x-python",
   "name": "python",
   "nbconvert_exporter": "python",
   "pygments_lexer": "ipython3",
   "version": "3.6.8"
  }
 },
 "nbformat": 4,
 "nbformat_minor": 2
}
